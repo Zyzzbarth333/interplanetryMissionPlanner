{
 "cells": [
  {
   "metadata": {
    "ExecuteTime": {
     "end_time": "2025-02-17T05:28:36.165275Z",
     "start_time": "2025-02-17T05:28:36.150269Z"
    }
   },
   "cell_type": "code",
   "source": [
    "import spiceypy as spice\n",
    "import numpy as np\n",
    "from datetime import datetime"
   ],
   "id": "785713bd2cb6ffd4",
   "outputs": [],
   "execution_count": 123
  },
  {
   "cell_type": "code",
   "id": "initial_id",
   "metadata": {
    "collapsed": true,
    "ExecuteTime": {
     "end_time": "2025-02-17T05:28:36.212446Z",
     "start_time": "2025-02-17T05:28:36.169269Z"
    }
   },
   "source": "spice.furnsh(\"../data/ephemeris/spice/meta/metakernel.tm\")",
   "outputs": [],
   "execution_count": 124
  },
  {
   "metadata": {
    "ExecuteTime": {
     "end_time": "2025-02-17T05:28:36.243166Z",
     "start_time": "2025-02-17T05:28:36.229618Z"
    }
   },
   "cell_type": "code",
   "source": [
    "time_str = \"2024-01-01T00:00:00\"\n",
    "dt = datetime.fromisoformat(time_str)\n",
    "# Convert Python datetime to a format recognized by SPICE\n",
    "time_str = dt.strftime('%Y %b %d %H:%M:%S.%f')\n",
    "et = spice.str2et(time_str)\n",
    "\n",
    "observer = \"0\"\n",
    "frame = \"ECLIPJ2000\"\n",
    "target = \"599\"\n",
    "\n",
    "state, lt = spice.spkezr(\"599\", et, \"ECLIPJ2000\", 'NONE', \"0\")\n"
   ],
   "id": "5d10eca3d4b9da6",
   "outputs": [],
   "execution_count": 125
  },
  {
   "metadata": {
    "ExecuteTime": {
     "end_time": "2025-02-17T05:28:36.274438Z",
     "start_time": "2025-02-17T05:28:36.260454Z"
    }
   },
   "cell_type": "code",
   "source": [
    "# # List of all SPK files from your metakernel\n",
    "# spk_files = [\n",
    "#     'spk/de440.bsp',\n",
    "#     'spk/ceres_1900_2100.bsp',\n",
    "#     'spk/codes_300ast_20100725.bsp',\n",
    "#     'spk/jupiter/jup344.bsp',\n",
    "#     'spk/jupiter/jup344-s2003_j24.bsp',\n",
    "#     'spk/jupiter/jup346.bsp',\n",
    "#     'spk/jupiter/jup365.bsp',\n",
    "#     'spk/mars/mar097.bsp',\n",
    "#     'spk/neptune/nep095.bsp',\n",
    "#     'spk/neptune/nep097.bsp',\n",
    "#     'spk/neptune/nep097xl-801.bsp',\n",
    "#     'spk/neptune/nep097xl-899.bsp',\n",
    "#     'spk/neptune/nep101xl.bsp',\n",
    "#     'spk/neptune/nep101xl-802.bsp',\n",
    "#     'spk/neptune/nep104.bsp',\n",
    "#     'spk/neptune/nep105.bsp',\n",
    "#     'spk/pluto/plu060.bsp',\n",
    "#     'spk/saturn/sat393_daphnis.bsp',\n",
    "#     'spk/saturn/sat415.bsp',\n",
    "#     'spk/saturn/sat441.bsp',\n",
    "#     'spk/saturn/sat454.bsp',\n",
    "#     'spk/uranus/ura111.bsp',\n",
    "#     'spk/uranus/ura111l.bsp',\n",
    "#     'spk/uranus/ura111xl-701.bsp',\n",
    "#     'spk/uranus/ura111xl-702.bsp',\n",
    "#     'spk/uranus/ura111xl-703.bsp',\n",
    "#     'spk/uranus/ura111xl-704.bsp',\n",
    "#     'spk/uranus/ura111xl-705.bsp',\n",
    "#     'spk/uranus/ura111xl-799.bsp',\n",
    "#     'spk/uranus/ura115.bsp',\n",
    "#     'spk/uranus/ura116.bsp',\n",
    "#     'spk/uranus/ura117.bsp',\n",
    "#     'spk/comets/ison.bsp',\n",
    "#     'spk/comets/siding_spring_8-19-14.bsp',\n",
    "#     'spk/comets/siding_spring_s46.bsp'\n",
    "# ]\n",
    "#\n",
    "# # Base path from your metakernel\n",
    "# base_path = r'data\\ephemeris\\spice\\kernels'\n",
    "#\n",
    "# # Start with set containing SSB (ID 0)\n",
    "# all_ids = {0}  # Initialize with SSB\n",
    "#\n",
    "# # Get IDs from each SPK file and their coverage\n",
    "# for kernel in spk_files:\n",
    "#     try:\n",
    "#         full_path = f\"{base_path}/{kernel}\"\n",
    "#         ids = spice.spkobj(full_path)\n",
    "#         for i in range(spice.card(ids)):\n",
    "#             obj_id = ids[i]\n",
    "#             all_ids.add(obj_id)\n",
    "#\n",
    "#             # Get coverage for this object\n",
    "#             coverage = spice.spkcov(full_path, obj_id)\n",
    "#\n",
    "#             # Get number of intervals\n",
    "#             niv = spice.wncard(coverage)\n",
    "#\n",
    "#             try:\n",
    "#                 name = spice.bodc2n(obj_id)\n",
    "#             except:\n",
    "#                 name = \"No name found\"\n",
    "#\n",
    "#             print(f\"\\n{'='*50}\")\n",
    "#             print(f\"Coverage for object {obj_id} - {name}\")\n",
    "#\n",
    "#             # Display each coverage interval\n",
    "#             for j in range(niv):\n",
    "#                 # Get interval start and end times\n",
    "#                 start, end = spice.wnfetd(coverage, j)\n",
    "#\n",
    "#                 # Convert to calendar format\n",
    "#                 start_cal = spice.timout(start, \"YYYY MON DD HR:MN:SC.### (TDB) ::TDB\")\n",
    "#                 end_cal = spice.timout(end, \"YYYY MON DD HR:MN:SC.### (TDB) ::TDB\")\n",
    "#\n",
    "#                 print(f\"\\nInterval: {j}\")\n",
    "#                 print(f\"Start:    {start_cal}\")\n",
    "#                 print(f\"Stop:     {end_cal}\")\n",
    "#\n",
    "#     except Exception as e:\n",
    "#         print(f\"Skipping {kernel}: {str(e)}\")"
   ],
   "id": "3f9a68b7e73f57cc",
   "outputs": [],
   "execution_count": 126
  },
  {
   "metadata": {
    "ExecuteTime": {
     "end_time": "2025-02-17T05:28:58.372167Z",
     "start_time": "2025-02-17T05:28:58.357659Z"
    }
   },
   "cell_type": "code",
   "source": [
    "def calc_ephemeris( target, et, frame, observer ):\n",
    "\t'''\n",
    "\tConvenience wrapper for spkezr and spkgeo\n",
    "\t'''\n",
    "\n",
    "\tif type( target ) == str:\n",
    "\t\treturn np.array( spice.spkezr( target, et, frame, 'NONE', observer )[ 0 ] )\n",
    "\n",
    "\telse:\n",
    "\t\tn_states = len( et )\n",
    "\t\tstates   = np.zeros( ( n_states, 6 ) )\n",
    "\t\tfor n in range( n_states ):\n",
    "\t\t\tstates[ n ] = spice.spkgeo( target, et[ n ], frame, observer )[ 0 ]\n",
    "\t\treturn states\n",
    "\n",
    "val = calc_ephemeris( target, et, frame, observer )\n",
    "print( val )"
   ],
   "id": "adbdaf60aa676639",
   "outputs": [
    {
     "name": "stdout",
     "output_type": "stream",
     "text": [
      "[ 5.21378213e+08  5.31392793e+08 -1.38692598e+07 -9.47276111e+00\n",
      "  9.76970848e+00  1.71348472e-01]\n"
     ]
    }
   ],
   "execution_count": 128
  },
  {
   "metadata": {},
   "cell_type": "code",
   "outputs": [],
   "execution_count": null,
   "source": [
    "def state2coes( state, args = {} ):\n",
    "\t_args = {\n",
    "\t\t'et'        : 0,\n",
    "\t\t'mu'        : pd.earth[ 'mu' ],\n",
    "\t\t'deg'       : True,\n",
    "\t\t'print_coes': False\n",
    "\t}\n",
    "\tfor key in args.keys():\n",
    "\t\t_args[ key ] = args[ key ]\n",
    "\n",
    "\trp,e,i,raan,aop,ma,t0,mu,ta,a,T = spice.oscltx(\n",
    "\t\tstate, _args[ 'et' ], _args[ 'mu' ] )\n",
    "\n",
    "\tif _args[ 'deg' ]:\n",
    "\t\ti    *= nt.r2d\n",
    "\t\tta   *= nt.r2d\n",
    "\t\taop  *= nt.r2d\n",
    "\t\traan *= nt.r2d\n",
    "\n",
    "\tif _args[ 'print_coes' ]:\n",
    "\t\tprint( 'a'   , a    )\n",
    "\t\tprint( 'e'   , e    )\n",
    "\t\tprint( 'i'   , i    )\n",
    "\t\tprint( 'RAAN', raan )\n",
    "\t\tprint( 'AOP' , aop  )\n",
    "\t\tprint( 'TA'  , ta   )\n",
    "\t\tprint()\n",
    "\n",
    "\treturn [ a, e, i, ta, aop, raan ]"
   ],
   "id": "581522873a322eef"
  }
 ],
 "metadata": {
  "kernelspec": {
   "display_name": "Python 3",
   "language": "python",
   "name": "python3"
  },
  "language_info": {
   "codemirror_mode": {
    "name": "ipython",
    "version": 2
   },
   "file_extension": ".py",
   "mimetype": "text/x-python",
   "name": "python",
   "nbconvert_exporter": "python",
   "pygments_lexer": "ipython2",
   "version": "2.7.6"
  }
 },
 "nbformat": 4,
 "nbformat_minor": 5
}
